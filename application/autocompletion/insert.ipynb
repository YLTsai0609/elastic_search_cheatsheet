{
 "cells": [
  {
   "cell_type": "markdown",
   "metadata": {
    "toc": true
   },
   "source": [
    "<h1>Table of Contents<span class=\"tocSkip\"></span></h1>\n",
    "<div class=\"toc\"><ul class=\"toc-item\"></ul></div>"
   ]
  },
  {
   "cell_type": "code",
   "execution_count": 3,
   "metadata": {
    "ExecuteTime": {
     "end_time": "2021-08-28T10:22:01.651997Z",
     "start_time": "2021-08-28T10:21:47.857615Z"
    }
   },
   "outputs": [
    {
     "name": "stdout",
     "output_type": "stream",
     "text": [
      "Copying gs://pixlake/_lab/poi/name_suggestion/v20210828.json/._SUCCESS.crc...\n",
      "Copying gs://pixlake/_lab/poi/name_suggestion/v20210828.json/.part-00000-15e674e7-f576-4d54-bbe3-e2a45a99890d-c000.json.crc...\n",
      "Copying gs://pixlake/_lab/poi/name_suggestion/v20210828.json/.part-00001-15e674e7-f576-4d54-bbe3-e2a45a99890d-c000.json.crc...\n",
      "Copying gs://pixlake/_lab/poi/name_suggestion/v20210828.json/.part-00002-15e674e7-f576-4d54-bbe3-e2a45a99890d-c000.json.crc...\n",
      "/ [4 files][ 53.6 KiB/ 53.6 KiB]                                                \n",
      "==> NOTE: You are performing a sequence of gsutil operations that may\n",
      "run significantly faster if you instead use gsutil -m cp ... Please\n",
      "see the -m section under \"gsutil help options\" for further information\n",
      "about when gsutil -m can be advantageous.\n",
      "\n",
      "Copying gs://pixlake/_lab/poi/name_suggestion/v20210828.json/.part-00003-15e674e7-f576-4d54-bbe3-e2a45a99890d-c000.json.crc...\n",
      "Copying gs://pixlake/_lab/poi/name_suggestion/v20210828.json/.part-00004-15e674e7-f576-4d54-bbe3-e2a45a99890d-c000.json.crc...\n",
      "Copying gs://pixlake/_lab/poi/name_suggestion/v20210828.json/.part-00005-15e674e7-f576-4d54-bbe3-e2a45a99890d-c000.json.crc...\n",
      "Copying gs://pixlake/_lab/poi/name_suggestion/v20210828.json/.part-00006-15e674e7-f576-4d54-bbe3-e2a45a99890d-c000.json.crc...\n",
      "Copying gs://pixlake/_lab/poi/name_suggestion/v20210828.json/.part-00007-15e674e7-f576-4d54-bbe3-e2a45a99890d-c000.json.crc...\n",
      "Copying gs://pixlake/_lab/poi/name_suggestion/v20210828.json/.part-00008-15e674e7-f576-4d54-bbe3-e2a45a99890d-c000.json.crc...\n",
      "Copying gs://pixlake/_lab/poi/name_suggestion/v20210828.json/.part-00009-15e674e7-f576-4d54-bbe3-e2a45a99890d-c000.json.crc...\n",
      "Copying gs://pixlake/_lab/poi/name_suggestion/v20210828.json/.part-00010-15e674e7-f576-4d54-bbe3-e2a45a99890d-c000.json.crc...\n",
      "Copying gs://pixlake/_lab/poi/name_suggestion/v20210828.json/_SUCCESS...        \n",
      "Copying gs://pixlake/_lab/poi/name_suggestion/v20210828.json/part-00000-15e674e7-f576-4d54-bbe3-e2a45a99890d-c000.json...\n",
      "Copying gs://pixlake/_lab/poi/name_suggestion/v20210828.json/part-00001-15e674e7-f576-4d54-bbe3-e2a45a99890d-c000.json...\n",
      "Copying gs://pixlake/_lab/poi/name_suggestion/v20210828.json/part-00002-15e674e7-f576-4d54-bbe3-e2a45a99890d-c000.json...\n",
      "Copying gs://pixlake/_lab/poi/name_suggestion/v20210828.json/part-00003-15e674e7-f576-4d54-bbe3-e2a45a99890d-c000.json...\n",
      "Copying gs://pixlake/_lab/poi/name_suggestion/v20210828.json/part-00004-15e674e7-f576-4d54-bbe3-e2a45a99890d-c000.json...\n",
      "Copying gs://pixlake/_lab/poi/name_suggestion/v20210828.json/part-00005-15e674e7-f576-4d54-bbe3-e2a45a99890d-c000.json...\n",
      "Copying gs://pixlake/_lab/poi/name_suggestion/v20210828.json/part-00006-15e674e7-f576-4d54-bbe3-e2a45a99890d-c000.json...\n",
      "Copying gs://pixlake/_lab/poi/name_suggestion/v20210828.json/part-00007-15e674e7-f576-4d54-bbe3-e2a45a99890d-c000.json...\n",
      "Copying gs://pixlake/_lab/poi/name_suggestion/v20210828.json/part-00008-15e674e7-f576-4d54-bbe3-e2a45a99890d-c000.json...\n",
      "Copying gs://pixlake/_lab/poi/name_suggestion/v20210828.json/part-00009-15e674e7-f576-4d54-bbe3-e2a45a99890d-c000.json...\n",
      "Copying gs://pixlake/_lab/poi/name_suggestion/v20210828.json/part-00010-15e674e7-f576-4d54-bbe3-e2a45a99890d-c000.json...\n",
      "- [24 files][219.2 MiB/219.2 MiB]   21.1 MiB/s                                  \n",
      "==> NOTE: You are performing a sequence of gsutil operations that may\n",
      "run significantly faster if you instead use gsutil -m cp ... Please\n",
      "see the -m section under \"gsutil help options\" for further information\n",
      "about when gsutil -m can be advantageous.\n",
      "\n",
      "\n",
      "Operation completed over 24 objects/219.2 MiB.                                   \n"
     ]
    }
   ],
   "source": [
    "!gsutil cp -r gs://pixlake/_lab/poi/name_suggestion/v20210828.json ."
   ]
  },
  {
   "cell_type": "code",
   "execution_count": 4,
   "metadata": {
    "ExecuteTime": {
     "end_time": "2021-08-28T10:22:01.778262Z",
     "start_time": "2021-08-28T10:22:01.655826Z"
    }
   },
   "outputs": [
    {
     "name": "stdout",
     "output_type": "stream",
     "text": [
      "explore.es  index_read_fast.json  MEMO\t     small_v20210828.json\r\n",
      "index.json  insert.ipynb\t  search.sh  v20210828.json\r\n"
     ]
    }
   ],
   "source": [
    "!ls"
   ]
  },
  {
   "cell_type": "code",
   "execution_count": null,
   "metadata": {},
   "outputs": [],
   "source": []
  },
  {
   "cell_type": "code",
   "execution_count": 5,
   "metadata": {
    "ExecuteTime": {
     "end_time": "2021-08-28T10:25:46.070656Z",
     "start_time": "2021-08-28T10:23:08.792858Z"
    }
   },
   "outputs": [
    {
     "name": "stdout",
     "output_type": "stream",
     "text": [
      "{'es_host': ('http://35.201.255.59:9200',), 'index': 'poi_autocompletion_20210828', 'bulk_size': 20000, 'timeout': 60.0, 'with_retry': True, 'verify_certs': False, 'use_ssl': False, 'ca_certs': None, 'http_auth': None, 'delete': False, 'update': False, 'progress': False, 'type': '_doc', 'id_field': None, 'as_child': False, 'index_settings_file': None, 'encoding': 'utf-8', 'keys': [], 'es_conn': <Elasticsearch([{'host': '35.201.255.59', 'port': 9200}])>}\n",
      "{'es_host': ('http://35.201.255.59:9200',), 'index': 'poi_autocompletion_20210828', 'bulk_size': 20000, 'timeout': 60.0, 'with_retry': True, 'verify_certs': False, 'use_ssl': False, 'ca_certs': None, 'http_auth': None, 'delete': False, 'update': False, 'progress': False, 'type': '_doc', 'id_field': None, 'as_child': False, 'index_settings_file': None, 'encoding': 'utf-8', 'keys': [], 'es_conn': <Elasticsearch([{'host': '35.201.255.59', 'port': 9200}])>}\n",
      "{'es_host': ('http://35.201.255.59:9200',), 'index': 'poi_autocompletion_20210828', 'bulk_size': 20000, 'timeout': 60.0, 'with_retry': True, 'verify_certs': False, 'use_ssl': False, 'ca_certs': None, 'http_auth': None, 'delete': False, 'update': False, 'progress': False, 'type': '_doc', 'id_field': None, 'as_child': False, 'index_settings_file': None, 'encoding': 'utf-8', 'keys': [], 'es_conn': <Elasticsearch([{'host': '35.201.255.59', 'port': 9200}])>}\n",
      "{'es_host': ('http://35.201.255.59:9200',), 'index': 'poi_autocompletion_20210828', 'bulk_size': 20000, 'timeout': 60.0, 'with_retry': True, 'verify_certs': False, 'use_ssl': False, 'ca_certs': None, 'http_auth': None, 'delete': False, 'update': False, 'progress': False, 'type': '_doc', 'id_field': None, 'as_child': False, 'index_settings_file': None, 'encoding': 'utf-8', 'keys': [], 'es_conn': <Elasticsearch([{'host': '35.201.255.59', 'port': 9200}])>}\n",
      "{'es_host': ('http://35.201.255.59:9200',), 'index': 'poi_autocompletion_20210828', 'bulk_size': 20000, 'timeout': 60.0, 'with_retry': True, 'verify_certs': False, 'use_ssl': False, 'ca_certs': None, 'http_auth': None, 'delete': False, 'update': False, 'progress': False, 'type': '_doc', 'id_field': None, 'as_child': False, 'index_settings_file': None, 'encoding': 'utf-8', 'keys': [], 'es_conn': <Elasticsearch([{'host': '35.201.255.59', 'port': 9200}])>}\n",
      "{'es_host': ('http://35.201.255.59:9200',), 'index': 'poi_autocompletion_20210828', 'bulk_size': 20000, 'timeout': 60.0, 'with_retry': True, 'verify_certs': False, 'use_ssl': False, 'ca_certs': None, 'http_auth': None, 'delete': False, 'update': False, 'progress': False, 'type': '_doc', 'id_field': None, 'as_child': False, 'index_settings_file': None, 'encoding': 'utf-8', 'keys': [], 'es_conn': <Elasticsearch([{'host': '35.201.255.59', 'port': 9200}])>}\n",
      "{'es_host': ('http://35.201.255.59:9200',), 'index': 'poi_autocompletion_20210828', 'bulk_size': 20000, 'timeout': 60.0, 'with_retry': True, 'verify_certs': False, 'use_ssl': False, 'ca_certs': None, 'http_auth': None, 'delete': False, 'update': False, 'progress': False, 'type': '_doc', 'id_field': None, 'as_child': False, 'index_settings_file': None, 'encoding': 'utf-8', 'keys': [], 'es_conn': <Elasticsearch([{'host': '35.201.255.59', 'port': 9200}])>}\n",
      "{'es_host': ('http://35.201.255.59:9200',), 'index': 'poi_autocompletion_20210828', 'bulk_size': 20000, 'timeout': 60.0, 'with_retry': True, 'verify_certs': False, 'use_ssl': False, 'ca_certs': None, 'http_auth': None, 'delete': False, 'update': False, 'progress': False, 'type': '_doc', 'id_field': None, 'as_child': False, 'index_settings_file': None, 'encoding': 'utf-8', 'keys': [], 'es_conn': <Elasticsearch([{'host': '35.201.255.59', 'port': 9200}])>}\n",
      "{'es_host': ('http://35.201.255.59:9200',), 'index': 'poi_autocompletion_20210828', 'bulk_size': 20000, 'timeout': 60.0, 'with_retry': True, 'verify_certs': False, 'use_ssl': False, 'ca_certs': None, 'http_auth': None, 'delete': False, 'update': False, 'progress': False, 'type': '_doc', 'id_field': None, 'as_child': False, 'index_settings_file': None, 'encoding': 'utf-8', 'keys': [], 'es_conn': <Elasticsearch([{'host': '35.201.255.59', 'port': 9200}])>}\n",
      "{'es_host': ('http://35.201.255.59:9200',), 'index': 'poi_autocompletion_20210828', 'bulk_size': 20000, 'timeout': 60.0, 'with_retry': True, 'verify_certs': False, 'use_ssl': False, 'ca_certs': None, 'http_auth': None, 'delete': False, 'update': False, 'progress': False, 'type': '_doc', 'id_field': None, 'as_child': False, 'index_settings_file': None, 'encoding': 'utf-8', 'keys': [], 'es_conn': <Elasticsearch([{'host': '35.201.255.59', 'port': 9200}])>}\n",
      "{'es_host': ('http://35.201.255.59:9200',), 'index': 'poi_autocompletion_20210828', 'bulk_size': 20000, 'timeout': 60.0, 'with_retry': True, 'verify_certs': False, 'use_ssl': False, 'ca_certs': None, 'http_auth': None, 'delete': False, 'update': False, 'progress': False, 'type': '_doc', 'id_field': None, 'as_child': False, 'index_settings_file': None, 'encoding': 'utf-8', 'keys': [], 'es_conn': <Elasticsearch([{'host': '35.201.255.59', 'port': 9200}])>}\n",
      "/home/joetsai/.local/lib/python3.8/site-packages/elasticsearch/connection/base.py:208: ElasticsearchWarning: [types removal] Specifying types in bulk requests is deprecated.\n",
      "  warnings.warn(message, category=ElasticsearchWarning)\n",
      "\u001b[?25l  [####################################]\u001b[?25h\n"
     ]
    }
   ],
   "source": [
    "!/home/joetsai/.local/bin/elasticsearch_loader \\\n",
    "                --es-host http://localhost:9200 \\\n",
    "                --index index_name \\\n",
    "                --bulk-size 20000\\\n",
    "                --timeout 60\\\n",
    "                --with-retry\\\n",
    "                json\\\n",
    "                --json-lines\\\n",
    "                v20210828.json/*.json"
   ]
  }
 ],
 "metadata": {
  "kernelspec": {
   "display_name": "pixlake_spark3",
   "language": "python",
   "name": "pixlake_spark3"
  },
  "language_info": {
   "codemirror_mode": {
    "name": "ipython",
    "version": 3
   },
   "file_extension": ".py",
   "mimetype": "text/x-python",
   "name": "python",
   "nbconvert_exporter": "python",
   "pygments_lexer": "ipython3",
   "version": "3.8.10"
  },
  "toc": {
   "base_numbering": 1,
   "nav_menu": {},
   "number_sections": true,
   "sideBar": true,
   "skip_h1_title": false,
   "title_cell": "Table of Contents",
   "title_sidebar": "Contents",
   "toc_cell": true,
   "toc_position": {},
   "toc_section_display": true,
   "toc_window_display": false
  }
 },
 "nbformat": 4,
 "nbformat_minor": 4
}
